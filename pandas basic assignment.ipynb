{
 "cells": [
  {
   "cell_type": "markdown",
   "id": "0452a43e-7fae-47f5-8124-a3a3fb18c7d4",
   "metadata": {},
   "source": [
    "Q1. Create a Pandas Series that contains the following data: 4, 8, 15, 16, 23, and 42. Then, print the series."
   ]
  },
  {
   "cell_type": "code",
   "execution_count": 1,
   "id": "dd6ce8e1-a76f-4779-8bfc-1a66346300a4",
   "metadata": {},
   "outputs": [
    {
     "name": "stdout",
     "output_type": "stream",
     "text": [
      "0     4\n",
      "1     8\n",
      "2    15\n",
      "3    16\n",
      "4    23\n",
      "5    42\n",
      "dtype: int64\n"
     ]
    }
   ],
   "source": [
    "import pandas as pd\n",
    "\n",
    "data = [4, 8, 15, 16, 23, 42]\n",
    "series = pd.Series(data)\n",
    "print(series)\n"
   ]
  },
  {
   "cell_type": "markdown",
   "id": "5360c87c-2100-45e3-ba68-7257e1be98a3",
   "metadata": {},
   "source": [
    "Q2. Create a variable of list type containing 10 elements in it, and apply pandas.Series function on the\n",
    "variable print it."
   ]
  },
  {
   "cell_type": "code",
   "execution_count": 2,
   "id": "cb3bf205-c7f8-43fb-abb6-8d6eeb2e68cb",
   "metadata": {},
   "outputs": [
    {
     "name": "stdout",
     "output_type": "stream",
     "text": [
      "0     1\n",
      "1     2\n",
      "2     3\n",
      "3     4\n",
      "4     5\n",
      "5     6\n",
      "6     7\n",
      "7     8\n",
      "8     9\n",
      "9    10\n",
      "dtype: int64\n"
     ]
    }
   ],
   "source": [
    "import pandas as pd\n",
    "\n",
    "my_list = [1, 2, 3, 4, 5, 6, 7, 8, 9, 10]\n",
    "my_series = pd.Series(my_list)\n",
    "print(my_series)\n"
   ]
  },
  {
   "cell_type": "markdown",
   "id": "063b18d9-11f6-45a3-b774-706034063b42",
   "metadata": {},
   "source": [
    "Create a Pandas DataFrame that contains the following data:"
   ]
  },
  {
   "cell_type": "code",
   "execution_count": 3,
   "id": "48a0227b-3653-49bb-85c5-001be5e362d8",
   "metadata": {},
   "outputs": [
    {
     "name": "stdout",
     "output_type": "stream",
     "text": [
      "     Name  Age  Gender\n",
      "0   Alice   25  Female\n",
      "1     Bob   30    Male\n",
      "2  Claire   27  Female\n"
     ]
    }
   ],
   "source": [
    "import pandas as pd\n",
    "\n",
    "name_series = pd.Series(['Alice', 'Bob', 'Claire'])\n",
    "age_series = pd.Series([25, 30, 27])\n",
    "gender_series = pd.Series(['Female', 'Male', 'Female'])\n",
    "\n",
    "data = {\n",
    "    'Name': name_series,\n",
    "    'Age': age_series,\n",
    "    'Gender': gender_series\n",
    "}\n",
    "\n",
    "df = pd.DataFrame(data)\n",
    "print(df)\n"
   ]
  },
  {
   "cell_type": "markdown",
   "id": "553d8fbc-6162-4c79-9c65-be4f45fed63c",
   "metadata": {},
   "source": [
    "Q4. What is ‘DataFrame’ in pandas and how is it different from pandas.series? Explain with an example."
   ]
  },
  {
   "cell_type": "markdown",
   "id": "0e93e7ae-d673-4d2b-8be4-6bcdeefa5f2f",
   "metadata": {},
   "source": [
    "n pandas, a DataFrame is a two-dimensional labeled data structure that can be thought of as a table or a spreadsheet. It consists of rows and columns, where each column can contain different data types. A DataFrame provides a convenient way to organize, manipulate, and analyze tabular data.\n",
    "\n",
    "On the other hand, a Series is a one-dimensional labeled array in pandas. It represents a single column of data within a DataFrame. A Series can be seen as a single column extracted from a DataFrame. It maintains an associated index, which provides a label for each element in the Series."
   ]
  },
  {
   "cell_type": "code",
   "execution_count": 6,
   "id": "8500fdbe-b0e7-4dd1-abf1-66e9369c5092",
   "metadata": {},
   "outputs": [],
   "source": [
    "import pandas as pd\n",
    "\n",
    "data = {\n",
    "    'Name': ['Alice', 'Bob', 'Claire'],\n",
    "    'Age': [25, 30, 27],\n",
    "    'Gender': ['Female', 'Male', 'Female']\n",
    "}\n",
    "\n",
    "df = pd.DataFrame(data)\n"
   ]
  },
  {
   "cell_type": "markdown",
   "id": "6f0a7f6b-a704-4ede-8921-5063b35e54c3",
   "metadata": {},
   "source": [
    "Q5. What are some common functions you can use to manipulate data in a Pandas DataFrame? Can\n",
    "you give an example of when you might use one of these functions?"
   ]
  },
  {
   "cell_type": "markdown",
   "id": "7c83829a-c78f-469a-8a9c-35c8dd1eaa20",
   "metadata": {},
   "source": [
    "\n",
    "df.head()\n",
    "df.info()\n",
    "df.describe()\n",
    "\n",
    "df.sort_values()\n",
    "\n",
    "df.tail(3)\n"
   ]
  },
  {
   "cell_type": "markdown",
   "id": "3a5f6e9a-c52e-4be0-8c86-61a07af1e2d7",
   "metadata": {},
   "source": [
    "Q6. Which of the following is mutable in nature Series, DataFrame, Panel?"
   ]
  },
  {
   "cell_type": "markdown",
   "id": "7303a9b5-4d29-4662-86bd-5fcd2b1b5ad9",
   "metadata": {},
   "source": [
    "Among the given options, both Series and DataFrame are mutable in nature in pandas.\n",
    "\n",
    "A Series can be modified after creation by assigning new values to specific indices or by applying various operations or transformations on the Series.\n",
    "\n",
    "Similarly, a DataFrame is mutable and can be modified by adding or removing columns, updating values, or performing operations on the DataFrame.\n",
    "\n",
    "On the other hand, the Panel object in pandas has been deprecated since version 0.20.1 and is no longer recommended for use. It has been replaced by more flexible and efficient MultiIndex objects, such as the MultiIndex DataFrame."
   ]
  },
  {
   "cell_type": "markdown",
   "id": "688fc9e4-c783-46f8-a1cf-f149b1640368",
   "metadata": {},
   "source": [
    "Q7. Create a DataFrame using multiple Series. Explain with an example."
   ]
  },
  {
   "cell_type": "markdown",
   "id": "1dcdf5cc-f8e0-4eb7-945b-6de9442156b6",
   "metadata": {},
   "source": [
    "To create a DataFrame using multiple Series, you can pass the Series as a dictionary to the pd.DataFrame() function"
   ]
  },
  {
   "cell_type": "code",
   "execution_count": 8,
   "id": "1a894d15-61fc-41ba-9caf-ca2ed967203d",
   "metadata": {},
   "outputs": [
    {
     "name": "stdout",
     "output_type": "stream",
     "text": [
      "     Name  Age  Gender\n",
      "0   Alice   25  Female\n",
      "1     Bob   30    Male\n",
      "2  Claire   27  Female\n"
     ]
    }
   ],
   "source": [
    "import pandas as pd\n",
    "\n",
    "name_series = pd.Series(['Alice', 'Bob', 'Claire'])\n",
    "age_series = pd.Series([25, 30, 27])\n",
    "gender_series = pd.Series(['Female', 'Male', 'Female'])\n",
    "\n",
    "data = {\n",
    "    'Name': name_series,\n",
    "    'Age': age_series,\n",
    "    'Gender': gender_series\n",
    "}\n",
    "\n",
    "df = pd.DataFrame(data)\n",
    "print(df)\n"
   ]
  },
  {
   "cell_type": "code",
   "execution_count": null,
   "id": "e6e824ea-f478-4bbc-9335-4c1c9785b961",
   "metadata": {},
   "outputs": [],
   "source": []
  }
 ],
 "metadata": {
  "kernelspec": {
   "display_name": "Python 3 (ipykernel)",
   "language": "python",
   "name": "python3"
  },
  "language_info": {
   "codemirror_mode": {
    "name": "ipython",
    "version": 3
   },
   "file_extension": ".py",
   "mimetype": "text/x-python",
   "name": "python",
   "nbconvert_exporter": "python",
   "pygments_lexer": "ipython3",
   "version": "3.10.8"
  }
 },
 "nbformat": 4,
 "nbformat_minor": 5
}
